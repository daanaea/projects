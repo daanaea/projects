{
 "cells": [
  {
   "cell_type": "markdown",
   "id": "4706b976",
   "metadata": {},
   "source": [
    "# Exploring geometries with `Folium`\n",
    "\n",
    "Today, we will be exploring visualizing geographical data (latitude and longitude specifically) with Folium,\n",
    "on the example of a bike-sharing service data from Cyclistic."
   ]
  },
  {
   "cell_type": "markdown",
   "id": "8b9f0c96",
   "metadata": {},
   "source": [
    "# Import libraries"
   ]
  },
  {
   "cell_type": "code",
   "execution_count": null,
   "id": "f1193626",
   "metadata": {},
   "outputs": [],
   "source": [
    "import warnings\n",
    "warnings.filterwarnings('ignore')"
   ]
  },
  {
   "cell_type": "code",
   "execution_count": null,
   "id": "b8f160a7",
   "metadata": {},
   "outputs": [],
   "source": [
    "import os, glob\n",
    "import requests\n",
    "\n",
    "import time\n",
    "import math\n",
    "\n",
    "import pandas as pd\n",
    "import numpy as np\n",
    "import sklearn\n",
    "\n",
    "import matplotlib.pyplot as plt\n",
    "import seaborn as sns\n",
    "\n",
    "import folium\n",
    "from folium import plugins"
   ]
  },
  {
   "cell_type": "markdown",
   "id": "4e7c5621",
   "metadata": {},
   "source": [
    "# Import data\n",
    "\n",
    "The data can be found via this [link](https://divvy-tripdata.s3.amazonaws.com/index.html)."
   ]
  },
  {
   "cell_type": "code",
   "execution_count": null,
   "id": "2d429b11",
   "metadata": {},
   "outputs": [],
   "source": [
    "df = pd.read_csv('data/202406-divvy-tripdata.csv')"
   ]
  },
  {
   "cell_type": "code",
   "execution_count": null,
   "id": "a713a11b",
   "metadata": {},
   "outputs": [],
   "source": [
    "df.head()"
   ]
  },
  {
   "cell_type": "code",
   "execution_count": null,
   "id": "1488a5f4",
   "metadata": {},
   "outputs": [],
   "source": [
    "df.describe()"
   ]
  },
  {
   "cell_type": "markdown",
   "id": "b3450eea",
   "metadata": {},
   "source": [
    "The most recent file, dated June 2024, has 0.7 M observations. Let's import the rest of the data for the past year:"
   ]
  },
  {
   "cell_type": "code",
   "execution_count": null,
   "id": "74c4d0d7",
   "metadata": {},
   "outputs": [],
   "source": [
    "path = r'data' # use your path\n",
    "all_files = glob.glob(path + \"/*.csv\")"
   ]
  },
  {
   "cell_type": "code",
   "execution_count": null,
   "id": "2d12de46",
   "metadata": {},
   "outputs": [],
   "source": [
    "for file in sorted(all_files):\n",
    "    file_size = os.path.getsize(file)\n",
    "    print(file, file_size)"
   ]
  },
  {
   "cell_type": "markdown",
   "id": "eebf4e52",
   "metadata": {},
   "source": [
    "Just from the file sizes, we can observe that there was a **decline in bike shares during winter** season (since more data, or file size, would mean more rentals)."
   ]
  },
  {
   "cell_type": "code",
   "execution_count": null,
   "id": "6e33e073",
   "metadata": {},
   "outputs": [],
   "source": [
    "# create list to append to\n",
    "li = []\n",
    "\n",
    "# loop through file names in the variable named 'all_files'\n",
    "for filename in all_files:\n",
    "    df = pd.read_csv(filename) # skiprows=1, index_col=None\n",
    "    li.append(df)"
   ]
  },
  {
   "cell_type": "code",
   "execution_count": null,
   "id": "6e161a4d",
   "metadata": {},
   "outputs": [],
   "source": [
    "data = pd.concat(li, axis=0, ignore_index=True)"
   ]
  },
  {
   "cell_type": "code",
   "execution_count": null,
   "id": "3ae2d0b1",
   "metadata": {},
   "outputs": [],
   "source": [
    "data.sample(5)"
   ]
  },
  {
   "cell_type": "code",
   "execution_count": null,
   "id": "647c0dab",
   "metadata": {},
   "outputs": [],
   "source": [
    "data.info()"
   ]
  },
  {
   "cell_type": "markdown",
   "id": "e7021592",
   "metadata": {},
   "source": [
    "Now we have over 5.7 M observations."
   ]
  },
  {
   "cell_type": "markdown",
   "id": "771c67bb",
   "metadata": {},
   "source": [
    "---\n",
    "\n",
    "# Preprocessing"
   ]
  },
  {
   "cell_type": "markdown",
   "id": "776620eb",
   "metadata": {},
   "source": [
    "### `ride_id`: removing duplicates"
   ]
  },
  {
   "cell_type": "code",
   "execution_count": null,
   "id": "a7869d90",
   "metadata": {},
   "outputs": [],
   "source": [
    "len(data['ride_id'].unique()), data['ride_id'].isna().sum()"
   ]
  },
  {
   "cell_type": "markdown",
   "id": "05c8c159",
   "metadata": {},
   "source": [
    "Seems like all rides' IDs are **not** unique, although there are no missing values.\n",
    "\n",
    "Let's check if there are duplicates or several bikes linked to the same ID:"
   ]
  },
  {
   "cell_type": "code",
   "execution_count": null,
   "id": "dee36e63",
   "metadata": {
    "scrolled": true
   },
   "outputs": [],
   "source": [
    "data['ride_id'].value_counts()"
   ]
  },
  {
   "cell_type": "code",
   "execution_count": null,
   "id": "52d8e723",
   "metadata": {},
   "outputs": [],
   "source": [
    "n_all, n_unique = len(data), len(data['ride_id'].value_counts())\n",
    "\n",
    "print(f'There are {n_all - n_unique} possible duplicates.')"
   ]
  },
  {
   "cell_type": "code",
   "execution_count": null,
   "id": "4ce03557",
   "metadata": {
    "scrolled": true
   },
   "outputs": [],
   "source": [
    "data[data['ride_id'] == 'FEA150E7A56F187E']"
   ]
  },
  {
   "cell_type": "code",
   "execution_count": null,
   "id": "d0206e16",
   "metadata": {
    "scrolled": true
   },
   "outputs": [],
   "source": [
    "data[data['ride_id'] == 'F2E698ECB05C43D7']"
   ]
  },
  {
   "cell_type": "markdown",
   "id": "306f8098",
   "metadata": {},
   "source": [
    "Seems like all of these are *duplicates*."
   ]
  },
  {
   "cell_type": "code",
   "execution_count": null,
   "id": "b80b1fec",
   "metadata": {
    "scrolled": true
   },
   "outputs": [],
   "source": [
    "data[['ride_id', 'started_at', 'start_station_id']].groupby(['started_at', 'start_station_id']).count()"
   ]
  },
  {
   "cell_type": "markdown",
   "id": "27024893",
   "metadata": {},
   "source": [
    "Could it be that those with the exact start time AND station are all duplicates? Due to ride registration error, for example."
   ]
  },
  {
   "cell_type": "code",
   "execution_count": null,
   "id": "b8bd3988",
   "metadata": {},
   "outputs": [],
   "source": [
    "data[['ride_id', 'started_at', 'start_station_id']].groupby(['started_at', 'start_station_id']).count().value_counts()"
   ]
  },
  {
   "cell_type": "markdown",
   "id": "ddd91bdb",
   "metadata": {},
   "source": [
    "Numbers do not match. We could be adding more features to add to the primary key, BUT notice that `started_at` and `ended_at` **differ only in milliseconds**!"
   ]
  },
  {
   "cell_type": "code",
   "execution_count": null,
   "id": "1aaefe8a",
   "metadata": {
    "scrolled": true
   },
   "outputs": [],
   "source": [
    "id_counts = data['ride_id'].value_counts()\n",
    "duplicated_ids = np.array(id_counts[id_counts.values == 2].index)\n",
    "\n",
    "def checker(id):\n",
    "    if id in duplicated_ids:\n",
    "        return True\n",
    "    return False\n",
    "\n",
    "duplicates = data[data['ride_id'].apply(checker)]\n",
    "duplicates"
   ]
  },
  {
   "cell_type": "code",
   "execution_count": null,
   "id": "e0f20907",
   "metadata": {
    "scrolled": false
   },
   "outputs": [],
   "source": [
    "cache = {}\n",
    "cleaned_dups = duplicates.drop_duplicates()\n",
    "dupped_ind = cleaned_dups['ride_id'].value_counts().index\n",
    "\n",
    "def checker_specific(ind):\n",
    "    if ind in dupped_ind:\n",
    "        if ind in cache:\n",
    "            return False\n",
    "        else:\n",
    "            cache[ind] = True\n",
    "    return True"
   ]
  },
  {
   "cell_type": "code",
   "execution_count": null,
   "id": "201db8eb",
   "metadata": {},
   "outputs": [],
   "source": [
    "data = data[data['ride_id'].apply(checker_specific)]"
   ]
  },
  {
   "cell_type": "markdown",
   "id": "7ce47881",
   "metadata": {},
   "source": [
    "Yay! We got rid of the most obvious duplicates."
   ]
  },
  {
   "cell_type": "markdown",
   "id": "ff189aed",
   "metadata": {},
   "source": [
    "---\n",
    "\n",
    "### `started_at` and `ended_at`: handling missing values"
   ]
  },
  {
   "cell_type": "markdown",
   "id": "2bc7f1a5",
   "metadata": {},
   "source": [
    "Convert columns containing dates to uniform `datetime` type:"
   ]
  },
  {
   "cell_type": "code",
   "execution_count": null,
   "id": "a1aab980",
   "metadata": {},
   "outputs": [],
   "source": [
    "data['started_at'] = pd.to_datetime(data['started_at'], errors='coerce')\n",
    "data['ended_at'] = pd.to_datetime(data['ended_at'], errors='coerce')"
   ]
  },
  {
   "cell_type": "code",
   "execution_count": null,
   "id": "857a6a64",
   "metadata": {},
   "outputs": [],
   "source": [
    "data.sample(3)"
   ]
  },
  {
   "cell_type": "code",
   "execution_count": null,
   "id": "af94a530",
   "metadata": {
    "scrolled": true
   },
   "outputs": [],
   "source": [
    "missing_data = data[(data['started_at'].isna() == True) | (data['ended_at'].isna() == True)]\n",
    "print(f'There are {len(missing_data)} rows with missing dates, which is {np.round(len(missing_data)/len(data), 2)} from the all data.')\n",
    "missing_data.sample(3)"
   ]
  },
  {
   "cell_type": "markdown",
   "id": "5b4a4187",
   "metadata": {},
   "source": [
    "It turns out that 710,721 rides have no time data at all! It is slightly over $\\frac{1}{10}$ of all our data, so we want to keep these observations. However, since wwe are working with visualizing coordinates, we will be sumplifying this by just removing this data."
   ]
  },
  {
   "cell_type": "code",
   "execution_count": null,
   "id": "610dfee4",
   "metadata": {
    "scrolled": true
   },
   "outputs": [],
   "source": [
    "df = data[(data['started_at'].isna() == False) & (data['ended_at'].isna() == False)]\n",
    "df.sample(3)"
   ]
  },
  {
   "cell_type": "markdown",
   "id": "177781a6",
   "metadata": {},
   "source": [
    "---\n",
    "\n",
    "### `duration`\n",
    "\n",
    "Let's create new feature `duration` for our new dataset `time_data`:"
   ]
  },
  {
   "cell_type": "code",
   "execution_count": null,
   "id": "87e0c1b0",
   "metadata": {},
   "outputs": [],
   "source": [
    "df['duration'] = df['ended_at'] - df['started_at']"
   ]
  },
  {
   "cell_type": "code",
   "execution_count": null,
   "id": "c0c254b0",
   "metadata": {},
   "outputs": [],
   "source": [
    "df['duration_days'] = df['duration'].dt.days"
   ]
  },
  {
   "cell_type": "code",
   "execution_count": null,
   "id": "b64cba0a",
   "metadata": {
    "scrolled": false
   },
   "outputs": [],
   "source": [
    "np.min(df['duration']), np.mean(df['duration']), np.max(df['duration'])"
   ]
  },
  {
   "cell_type": "markdown",
   "id": "7ea7717a",
   "metadata": {},
   "source": [
    "We see some unreal data, such as -12 days of a single rental."
   ]
  },
  {
   "cell_type": "code",
   "execution_count": null,
   "id": "67aa44a9",
   "metadata": {},
   "outputs": [],
   "source": [
    "sns.violinplot(\n",
    "    x=df['member_casual'],\n",
    "    y=df['duration'].dt.days\n",
    ");"
   ]
  },
  {
   "cell_type": "markdown",
   "id": "035ddbf0",
   "metadata": {},
   "source": [
    "#### 1. Dealing with outliers of  `casual` riders"
   ]
  },
  {
   "cell_type": "markdown",
   "id": "7cb274b6",
   "metadata": {},
   "source": [
    "Very suspicious statistics. Could it be that bikes that were *stolen* were as well not returned to the stations for long period of times? Or casual riders just *could not find* a proper station (since they are not using the service often)? Or maybe, the simply *forgot* to return the bike."
   ]
  },
  {
   "cell_type": "code",
   "execution_count": null,
   "id": "b7e8a2fc",
   "metadata": {
    "scrolled": true
   },
   "outputs": [],
   "source": [
    "(df[df['member_casual'] == 'casual'][df['duration'] > pd.to_timedelta('1 days')]\n",
    "    .sort_values('duration', ascending=False).head())"
   ]
  },
  {
   "cell_type": "markdown",
   "id": "9c72ed4d",
   "metadata": {},
   "source": [
    "We can see that at least for five longest rentals bikes were **never returned**, since there are not end station specified!"
   ]
  },
  {
   "cell_type": "code",
   "execution_count": null,
   "id": "4dfe1f0e",
   "metadata": {},
   "outputs": [],
   "source": [
    "sns.violinplot(\n",
    "    data=df[df['member_casual'] == 'casual'][df['duration'] > pd.to_timedelta('1 days')],\n",
    "    x='duration_days'\n",
    ");"
   ]
  },
  {
   "cell_type": "markdown",
   "id": "8a6ed3e5",
   "metadata": {},
   "source": [
    "Let's remove all rentals when bikes were not returned:"
   ]
  },
  {
   "cell_type": "code",
   "execution_count": null,
   "id": "1581d4c2",
   "metadata": {
    "scrolled": true
   },
   "outputs": [],
   "source": [
    "df = (df[df['end_lat'].isna() == False]\n",
    "     .sort_values('duration', ascending=False))\n",
    "df.head(3)"
   ]
  },
  {
   "cell_type": "markdown",
   "id": "fc60e63d",
   "metadata": {},
   "source": [
    "#### 2. Dealing with outliers of annual `member`s"
   ]
  },
  {
   "cell_type": "code",
   "execution_count": null,
   "id": "632e7a41",
   "metadata": {},
   "outputs": [],
   "source": [
    "np.max(df[df['member_casual'] == 'member']['duration'])"
   ]
  },
  {
   "cell_type": "markdown",
   "id": "24382921",
   "metadata": {},
   "source": [
    "In contrast, although members have never exceded a day and a half over the time period, there are *negative* rental times, clearly impossible unless it is a bug."
   ]
  },
  {
   "cell_type": "code",
   "execution_count": null,
   "id": "3aac2c97",
   "metadata": {
    "scrolled": true
   },
   "outputs": [],
   "source": [
    "sns.violinplot(\n",
    "    data=df[df['member_casual'] == 'member'][df['duration'] < pd.to_timedelta('0 days')],\n",
    "    x='duration_days'\n",
    ");"
   ]
  },
  {
   "cell_type": "code",
   "execution_count": null,
   "id": "0d8b3db1",
   "metadata": {},
   "outputs": [],
   "source": [
    "len(df[df['member_casual'] == 'member'][df['duration'] < pd.to_timedelta('0 days')])"
   ]
  },
  {
   "cell_type": "markdown",
   "id": "d3185213",
   "metadata": {},
   "source": [
    "Let's just remove those observations with negative or zero ride durations:"
   ]
  },
  {
   "cell_type": "code",
   "execution_count": null,
   "id": "f476db09",
   "metadata": {
    "scrolled": false
   },
   "outputs": [],
   "source": [
    "df = df[df['duration'] > pd.to_timedelta('0 days')]"
   ]
  },
  {
   "cell_type": "markdown",
   "id": "ab8c975e",
   "metadata": {},
   "source": [
    "#### 3. Adding `duration_mins` subfeature"
   ]
  },
  {
   "cell_type": "code",
   "execution_count": null,
   "id": "e267d11f",
   "metadata": {},
   "outputs": [],
   "source": [
    "df['duration_mins'] = df['duration'].dt.seconds / 60"
   ]
  },
  {
   "cell_type": "markdown",
   "id": "22a79de2",
   "metadata": {},
   "source": [
    "Let's check if **short rentals** were characteristic for casual riders (who may not know the UI of the app well yet). Assume \"short\" ride is the rental lasting less than 5 minutes."
   ]
  },
  {
   "cell_type": "code",
   "execution_count": null,
   "id": "f4ee63cb",
   "metadata": {},
   "outputs": [],
   "source": [
    "sns.histplot(\n",
    "    data=df[df['duration_mins'] <= 5],\n",
    "    x='duration_mins',\n",
    "    hue='member_casual'\n",
    ");"
   ]
  },
  {
   "cell_type": "markdown",
   "id": "9da2ee6a",
   "metadata": {},
   "source": [
    "Looks like there were more annual members using bikes for short time overall."
   ]
  },
  {
   "cell_type": "markdown",
   "id": "ff3303a7",
   "metadata": {},
   "source": [
    "### `day_of_week`"
   ]
  },
  {
   "cell_type": "code",
   "execution_count": null,
   "id": "0a20bf9c",
   "metadata": {},
   "outputs": [],
   "source": [
    "df['day_of_week'] = df['started_at'].dt.dayofweek"
   ]
  },
  {
   "cell_type": "markdown",
   "id": "15be74a8",
   "metadata": {},
   "source": [
    "### `distance`"
   ]
  },
  {
   "cell_type": "code",
   "execution_count": null,
   "id": "dbb6559d",
   "metadata": {},
   "outputs": [],
   "source": [
    "def haversine(lat1, lon1, lat2, lon2):\n",
    "    \"\"\"\n",
    "    Determine the distance (in kilometers) between two points on a sphere\n",
    "    given their longitudes and latitudes.\n",
    "    \"\"\"\n",
    "    dLat = (lat2 - lat1) * math.pi / 180.0\n",
    "    dLon = (lon2 - lon1) * math.pi / 180.0\n",
    " \n",
    "    # Convert to radians\n",
    "    lat1 = (lat1) * math.pi / 180.0\n",
    "    lat2 = (lat2) * math.pi / 180.0\n",
    "    \n",
    "    a = (pow(math.sin(dLat / 2), 2) +\n",
    "         pow(math.sin(dLon / 2), 2) *\n",
    "             math.cos(lat1) * math.cos(lat2));\n",
    "    rad = 6371\n",
    "    c = 2 * math.asin(math.sqrt(a))\n",
    "    \n",
    "    return rad * c"
   ]
  },
  {
   "cell_type": "code",
   "execution_count": null,
   "id": "d4bf93dc",
   "metadata": {},
   "outputs": [],
   "source": [
    "df['distance'] = df.apply(\n",
    "    lambda r: haversine(\n",
    "        r.start_lat, r.start_lng, r.end_lat, r.end_lng),\n",
    "    axis=1\n",
    ")"
   ]
  },
  {
   "cell_type": "code",
   "execution_count": null,
   "id": "c39abc40",
   "metadata": {
    "scrolled": true
   },
   "outputs": [],
   "source": [
    "sns.histplot(\n",
    "    data=df.sample(10_000),\n",
    "    x='distance', # in km\n",
    "    hue='member_casual'\n",
    ");"
   ]
  },
  {
   "cell_type": "markdown",
   "id": "0c3bfddb",
   "metadata": {},
   "source": [
    "### `avg_speed`"
   ]
  },
  {
   "cell_type": "markdown",
   "id": "e28595d8",
   "metadata": {},
   "source": [
    "We can also check the **average speed** of riders! Who knows, maybe faster riders are those constantly renting the bikes, and we can convert them into annual members more?"
   ]
  },
  {
   "cell_type": "code",
   "execution_count": null,
   "id": "d9acab04",
   "metadata": {},
   "outputs": [],
   "source": [
    "# Take speed measured in km per hour\n",
    "df['avg_speed'] = df['distance'] / (df['duration_mins'] / 60)"
   ]
  },
  {
   "cell_type": "code",
   "execution_count": null,
   "id": "58e8a944",
   "metadata": {
    "scrolled": true
   },
   "outputs": [],
   "source": [
    "df.sample(3)"
   ]
  },
  {
   "cell_type": "code",
   "execution_count": null,
   "id": "bd18d289",
   "metadata": {
    "scrolled": true
   },
   "outputs": [],
   "source": [
    "df['avg_speed'].min(), df['avg_speed'].mean(), df['avg_speed'].max()"
   ]
  },
  {
   "cell_type": "markdown",
   "id": "2938b355",
   "metadata": {},
   "source": [
    "We definitely got some outliers here."
   ]
  },
  {
   "cell_type": "code",
   "execution_count": null,
   "id": "c702258c",
   "metadata": {},
   "outputs": [],
   "source": [
    "sns.violinplot(\n",
    "    data=df,\n",
    "    x='avg_speed'\n",
    ");"
   ]
  },
  {
   "cell_type": "markdown",
   "id": "26a30748",
   "metadata": {},
   "source": [
    "Let's restrict `avg_speed` by +1 std from the mean:"
   ]
  },
  {
   "cell_type": "code",
   "execution_count": null,
   "id": "6bd09f95",
   "metadata": {},
   "outputs": [],
   "source": [
    "df = df[df['avg_speed'] <= df['avg_speed'].mean() + np.std(df['avg_speed'])]\n",
    "df.sort_values('avg_speed', ascending=False).head(3)"
   ]
  },
  {
   "cell_type": "code",
   "execution_count": null,
   "id": "8b84b5c7",
   "metadata": {},
   "outputs": [],
   "source": [
    "sns.histplot(\n",
    "    data=df.sample(1_000_000),\n",
    "    x='avg_speed', # in km per hour\n",
    "    hue='member_casual'\n",
    ");"
   ]
  },
  {
   "cell_type": "markdown",
   "id": "8482f370",
   "metadata": {},
   "source": [
    "Seems like annual member are slightly faster on average (centered around 11 km/h) compared to casual riders (centered around 9 km/h)."
   ]
  },
  {
   "cell_type": "code",
   "execution_count": null,
   "id": "3f8eb12f",
   "metadata": {},
   "outputs": [],
   "source": [
    "np.mean(df[df['member_casual'] == 'casual']['avg_speed']), np.mean(df[df['member_casual'] == 'member']['avg_speed'])"
   ]
  },
  {
   "cell_type": "markdown",
   "id": "f9439a5f",
   "metadata": {},
   "source": [
    "---\n",
    "\n",
    "Our final dataset:"
   ]
  },
  {
   "cell_type": "code",
   "execution_count": null,
   "id": "ec7100ea",
   "metadata": {},
   "outputs": [],
   "source": [
    "df.sample(3)"
   ]
  },
  {
   "cell_type": "code",
   "execution_count": null,
   "id": "81a78eda",
   "metadata": {},
   "outputs": [],
   "source": [
    "len(df)"
   ]
  },
  {
   "cell_type": "markdown",
   "id": "62a49047",
   "metadata": {},
   "source": [
    "---\n",
    "\n",
    "# EDA"
   ]
  },
  {
   "cell_type": "markdown",
   "id": "a5c18567",
   "metadata": {},
   "source": [
    "## Time Series"
   ]
  },
  {
   "cell_type": "markdown",
   "id": "14cbc519",
   "metadata": {},
   "source": [
    "### Seasonal trends"
   ]
  },
  {
   "cell_type": "markdown",
   "id": "3103c18c",
   "metadata": {},
   "source": [
    "Let's dive deeper onto trends over one-year period."
   ]
  },
  {
   "cell_type": "code",
   "execution_count": null,
   "id": "52dbcacb",
   "metadata": {},
   "outputs": [],
   "source": [
    "import matplotlib.pyplot as plt\n",
    "import matplotlib.ticker as ticker\n",
    "import seaborn as sns"
   ]
  },
  {
   "cell_type": "code",
   "execution_count": null,
   "id": "b6d4526d",
   "metadata": {
    "scrolled": false
   },
   "outputs": [],
   "source": [
    "data_seasonal = data.copy()\n",
    "data_seasonal.sample(1)"
   ]
  },
  {
   "cell_type": "code",
   "execution_count": null,
   "id": "ec904cfb",
   "metadata": {},
   "outputs": [],
   "source": [
    "data_seasonal['started_at'] = pd.to_datetime(data_seasonal['started_at'], format='mixed')"
   ]
  },
  {
   "cell_type": "code",
   "execution_count": null,
   "id": "8c8b0cfe",
   "metadata": {},
   "outputs": [],
   "source": [
    "data_seasonal = data_seasonal.sort_values('started_at', ascending=True)"
   ]
  },
  {
   "cell_type": "markdown",
   "id": "f5f37891",
   "metadata": {},
   "source": [
    "Let's create a **unique day identifier** (note that rentals were made from the second half of 2023 to the first half of 2024):"
   ]
  },
  {
   "cell_type": "code",
   "execution_count": null,
   "id": "63de839e",
   "metadata": {},
   "outputs": [],
   "source": [
    "date_ids = []\n",
    "\n",
    "for d, m, y in zip(\n",
    "        data_seasonal['started_at'].dt.day,\n",
    "        data_seasonal['started_at'].dt.month,\n",
    "        data_seasonal['started_at'].dt.year):\n",
    "    identifier = str(d) + ' ' + str(m) + ' ' + str(y)\n",
    "    date_ids.append(identifier)\n",
    "\n",
    "data_seasonal['date_id'] = date_ids"
   ]
  },
  {
   "cell_type": "code",
   "execution_count": null,
   "id": "87de670b",
   "metadata": {
    "scrolled": true
   },
   "outputs": [],
   "source": [
    "data_seasonal.sample(3)"
   ]
  },
  {
   "cell_type": "code",
   "execution_count": null,
   "id": "7ba2e19a",
   "metadata": {},
   "outputs": [],
   "source": [
    "date_counts = data_seasonal[['date_id', 'member_casual']].groupby('date_id').count()\n",
    "\n",
    "def checker_count_by_date(date_id):\n",
    "    return date_counts.loc[date_id].values[0]"
   ]
  },
  {
   "cell_type": "code",
   "execution_count": null,
   "id": "06bef7ac",
   "metadata": {},
   "outputs": [],
   "source": [
    "data_seasonal['date_count'] = data_seasonal['date_id'].apply(checker_count_by_date)"
   ]
  },
  {
   "cell_type": "code",
   "execution_count": null,
   "id": "a8db6be1",
   "metadata": {},
   "outputs": [],
   "source": [
    "data_seasonal.head(3)"
   ]
  },
  {
   "cell_type": "code",
   "execution_count": null,
   "id": "7bc13844",
   "metadata": {
    "scrolled": true
   },
   "outputs": [],
   "source": [
    "plt.figure(figsize=(12, 4))\n",
    "\n",
    "sns.lineplot(\n",
    "    data=data_seasonal,\n",
    "    x='date_id',\n",
    "    y='date_count',\n",
    "    hue='member_casual' # doing it wrong; shpuld have calculated counts by groups\n",
    ")\n",
    "\n",
    "plt.xticks(rotation='vertical')\n",
    "plt.show();"
   ]
  },
  {
   "cell_type": "markdown",
   "id": "609436d4",
   "metadata": {},
   "source": [
    "## Geometries"
   ]
  },
  {
   "cell_type": "markdown",
   "id": "9d458861",
   "metadata": {},
   "source": [
    "### Stations' usage"
   ]
  },
  {
   "cell_type": "code",
   "execution_count": null,
   "id": "a4c23628",
   "metadata": {},
   "outputs": [],
   "source": [
    "len(df['start_station_id'].unique())"
   ]
  },
  {
   "cell_type": "code",
   "execution_count": null,
   "id": "e12ee68e",
   "metadata": {},
   "outputs": [],
   "source": [
    "len(df['end_station_id'].unique())"
   ]
  },
  {
   "cell_type": "markdown",
   "id": "97fa9671",
   "metadata": {},
   "source": [
    "In the data overview, it was stated that there are over six thousand stations in total.\n",
    "\n",
    "However, around $\\frac{1}{4}$ of them were really used for starting and ending the trip."
   ]
  },
  {
   "cell_type": "code",
   "execution_count": null,
   "id": "fb5cc826",
   "metadata": {},
   "outputs": [],
   "source": [
    "np.sum(df['start_station_id'] == df['end_station_id'])"
   ]
  },
  {
   "cell_type": "markdown",
   "id": "d97a410e",
   "metadata": {},
   "source": [
    "Out of 5.7 M data, 262,567 trips were started and ended on the same spot.\n",
    "\n",
    "How long did they last and why they could be so? Maybe, it was a new rider who did not know other station? Or it was near a specific location (e.g. a park), where people tend to ride bikes?"
   ]
  },
  {
   "cell_type": "code",
   "execution_count": null,
   "id": "910d63de",
   "metadata": {
    "scrolled": true
   },
   "outputs": [],
   "source": [
    "import folium\n",
    "\n",
    "map = folium.Map(\n",
    "    location=[62.035454, 129.675476], # Yakutsk (Якутск)\n",
    "    zoom_start=11\n",
    ")\n",
    "map"
   ]
  },
  {
   "cell_type": "markdown",
   "id": "0f547c3e",
   "metadata": {},
   "source": [
    "Let's create a map with initial zoom at the *mean* starting point. 5 million rows are going to take a while... So instead, let's take a sample of points.\n",
    "\n",
    "Using sample size calculator, optimal size of sample is 385:"
   ]
  },
  {
   "cell_type": "code",
   "execution_count": null,
   "id": "424d2f29",
   "metadata": {},
   "outputs": [],
   "source": [
    "sampled_rides = df.sample(385)"
   ]
  },
  {
   "cell_type": "code",
   "execution_count": null,
   "id": "644b0381",
   "metadata": {},
   "outputs": [],
   "source": [
    "map = folium.Map(\n",
    "    location=[sampled_rides['start_lat'].mean(), sampled_rides['start_lng'].mean()],\n",
    "    zoom_start=12,\n",
    "    control_scale=True\n",
    ")"
   ]
  },
  {
   "cell_type": "code",
   "execution_count": null,
   "id": "318e4933",
   "metadata": {
    "scrolled": true
   },
   "outputs": [],
   "source": [
    "map"
   ]
  },
  {
   "cell_type": "code",
   "execution_count": null,
   "id": "62ac0aab",
   "metadata": {},
   "outputs": [],
   "source": [
    "start_ts = time.time()\n",
    "\n",
    "for index, location_info in sampled_rides.iterrows():\n",
    "    folium.Marker(\n",
    "        [location_info['start_lat'], location_info['start_lng']],\n",
    "        popup=location_info['end_station_name']\n",
    "    ).add_to(map)\n",
    "\n",
    "\n",
    "end_ts = time.time()\n",
    "diff_ts = end_ts - start_ts\n",
    "print(f'The fragment took {diff_ts:.3f} seconds, or {diff_ts/60:.3f} minutes.')"
   ]
  },
  {
   "cell_type": "code",
   "execution_count": null,
   "id": "86f31175",
   "metadata": {
    "scrolled": true
   },
   "outputs": [],
   "source": [
    "map"
   ]
  },
  {
   "cell_type": "markdown",
   "id": "f867102c",
   "metadata": {},
   "source": [
    "Wow! Now we can see some examples of starting points. At a first glance, they seem to be closer to the coast line."
   ]
  },
  {
   "cell_type": "markdown",
   "id": "a1862b07",
   "metadata": {},
   "source": [
    "### Bordering stations"
   ]
  },
  {
   "cell_type": "markdown",
   "id": "29876b5e",
   "metadata": {},
   "source": [
    "To confirm this, let's find the farthest points on all four sides."
   ]
  },
  {
   "cell_type": "code",
   "execution_count": null,
   "id": "553f3729",
   "metadata": {},
   "outputs": [],
   "source": [
    "border_rides = pd.DataFrame()"
   ]
  },
  {
   "cell_type": "code",
   "execution_count": null,
   "id": "7d684459",
   "metadata": {},
   "outputs": [],
   "source": [
    "border_rides = pd.concat(\n",
    "    [border_rides,\n",
    "         df[df['start_lat'] == df['start_lat'].max()],\n",
    "         df[df['start_lat'] == df['start_lat'].min()],\n",
    "         df[df['start_lng'] == df['start_lng'].max()],\n",
    "         df[df['start_lng'] == df['start_lng'].min()]\n",
    "    ],\n",
    "    axis=0,\n",
    "    ignore_index=True\n",
    ")"
   ]
  },
  {
   "cell_type": "code",
   "execution_count": null,
   "id": "6562ec07",
   "metadata": {},
   "outputs": [],
   "source": [
    "border_rides.head(3)"
   ]
  },
  {
   "cell_type": "code",
   "execution_count": null,
   "id": "977695f6",
   "metadata": {},
   "outputs": [],
   "source": [
    "map_borders = folium.Map(\n",
    "    location=[border_rides['start_lat'].mean(), border_rides['start_lng'].mean()],\n",
    "    zoom_start=9,\n",
    "    control_scale=True\n",
    ")\n",
    "\n",
    "start_ts = time.time()\n",
    "\n",
    "for index, location_info in border_rides.iterrows():\n",
    "    folium.Marker(\n",
    "        [location_info['start_lat'], location_info['start_lng']],\n",
    "        popup=location_info['end_station_name']\n",
    "    ).add_to(map_borders)\n",
    "\n",
    "end_ts = time.time()\n",
    "diff_ts = end_ts - start_ts\n",
    "print(f'The fragment took {diff_ts:.3f} seconds, or {diff_ts/60:.3f} minutes.')"
   ]
  },
  {
   "cell_type": "code",
   "execution_count": null,
   "id": "9953aab4",
   "metadata": {
    "scrolled": true
   },
   "outputs": [],
   "source": [
    "map_borders"
   ]
  },
  {
   "cell_type": "markdown",
   "id": "2c17f5f3",
   "metadata": {},
   "source": [
    "All stations are located in the borders of Chicago area. Or not? Let's check with `Choropleth`."
   ]
  },
  {
   "cell_type": "code",
   "execution_count": null,
   "id": "e04d61f6",
   "metadata": {},
   "outputs": [],
   "source": [
    "us_states = requests.get(\n",
    "    \"https://raw.githubusercontent.com/python-visualization/folium-example-data/main/us_states.json\"\n",
    ").json()"
   ]
  },
  {
   "cell_type": "code",
   "execution_count": null,
   "id": "9a97447a",
   "metadata": {},
   "outputs": [],
   "source": [
    "folium.Choropleth(\n",
    "    geo_data=us_states,\n",
    "    fill_opacity=0.3,\n",
    "    line_weight=2,\n",
    ").add_to(map_borders);"
   ]
  },
  {
   "cell_type": "code",
   "execution_count": null,
   "id": "2433ab6c",
   "metadata": {},
   "outputs": [],
   "source": [
    "map_borders"
   ]
  },
  {
   "cell_type": "markdown",
   "id": "10df804d",
   "metadata": {},
   "source": [
    "It turns out the area is over *two* states – Illinois and Indiana. But the whole area can be classified as **Chicagoland**, the largest metropolitan area in the USA."
   ]
  },
  {
   "cell_type": "markdown",
   "id": "ac84dde4",
   "metadata": {},
   "source": [
    "### Stations' popularity"
   ]
  },
  {
   "cell_type": "markdown",
   "id": "ac51c80c",
   "metadata": {},
   "source": [
    "Let's analyze density of some locations compared to other using Folium [heatmap](https://geopandas.org/en/stable/gallery/plotting_with_folium.html#Folium-Heatmaps):"
   ]
  },
  {
   "cell_type": "code",
   "execution_count": null,
   "id": "3701eec3",
   "metadata": {},
   "outputs": [],
   "source": [
    "sampled_rides = df[['start_lat', 'start_lng']].sample(1_000_000)\n",
    "sampled_rides.head()"
   ]
  },
  {
   "cell_type": "code",
   "execution_count": null,
   "id": "da768fe7",
   "metadata": {},
   "outputs": [],
   "source": [
    "sampled_rides_coords = [[lat, lng] for lat, lng in zip(sampled_rides['start_lat'], sampled_rides['start_lng'])]"
   ]
  },
  {
   "cell_type": "code",
   "execution_count": null,
   "id": "3101d12d",
   "metadata": {},
   "outputs": [],
   "source": [
    "map = folium.Map(\n",
    "    location=[sampled_rides['start_lat'].mean(), sampled_rides['start_lng'].mean()],\n",
    "    zoom_start=10,\n",
    "    control_scale=True\n",
    ")"
   ]
  },
  {
   "cell_type": "code",
   "execution_count": null,
   "id": "6fdef9bd",
   "metadata": {},
   "outputs": [],
   "source": [
    "from folium import plugins # importing HeatMap\n",
    "\n",
    "start_ts = time.time()\n",
    "\n",
    "# adding coordinates to the heatmap\n",
    "plugins.HeatMap(\n",
    "    sampled_rides_coords\n",
    ").add_to(map)\n",
    "\n",
    "end_ts = time.time()\n",
    "diff_ts = end_ts - start_ts\n",
    "print(f'The fragment took {diff_ts:.3f} seconds, or {diff_ts/60:.3f} minutes.')"
   ]
  },
  {
   "cell_type": "code",
   "execution_count": null,
   "id": "c4fca9d4",
   "metadata": {
    "scrolled": true
   },
   "outputs": [],
   "source": [
    "map"
   ]
  },
  {
   "cell_type": "markdown",
   "id": "316adcbd",
   "metadata": {},
   "source": [
    "Let's sample for `member` and `casual` riders and compare."
   ]
  },
  {
   "cell_type": "code",
   "execution_count": null,
   "id": "8e26e959",
   "metadata": {},
   "outputs": [],
   "source": [
    "start_ts = time.time()\n",
    "\n",
    "# Taking a sample of casual riders\n",
    "casual_rides = df[df['member_casual'] == 'casual'][['start_lat', 'start_lng']].sample(1_000_000)\n",
    "casual_rides_coords = [[lat, lng] for lat, lng in zip(casual_rides['start_lat'], casual_rides['start_lng'])]\n",
    "\n",
    "map_casual = folium.Map(\n",
    "    location=[casual_rides['start_lat'].mean(), casual_rides['start_lng'].mean()],\n",
    "    zoom_start=10,\n",
    "    control_scale=True\n",
    ")\n",
    "\n",
    "# adding coordinates to the heatmap\n",
    "plugins.HeatMap(\n",
    "    casual_rides_coords\n",
    ").add_to(map_casual)\n",
    "\n",
    "end_ts = time.time()\n",
    "diff_ts = end_ts - start_ts\n",
    "print(f'The fragment took {diff_ts:.3f} seconds, or {diff_ts/60:.3f} minutes.')"
   ]
  },
  {
   "cell_type": "code",
   "execution_count": null,
   "id": "212167dc",
   "metadata": {},
   "outputs": [],
   "source": [
    "map_casual"
   ]
  },
  {
   "cell_type": "code",
   "execution_count": null,
   "id": "1144fd17",
   "metadata": {},
   "outputs": [],
   "source": [
    "start_ts = time.time()\n",
    "\n",
    "# Taking a sample of annual members\n",
    "annual_rides = df[df['member_casual'] == 'member'][['start_lat', 'start_lng']].sample(1_000_000)\n",
    "annual_rides_coords = [[lat, lng] for lat, lng in zip(annual_rides['start_lat'], annual_rides['start_lng'])]\n",
    "\n",
    "map_annual = folium.Map(\n",
    "    location=[annual_rides['start_lat'].mean(), annual_rides['start_lng'].mean()],\n",
    "    zoom_start=10,\n",
    "    control_scale=True\n",
    ")\n",
    "\n",
    "# adding coordinates to the heatmap\n",
    "plugins.HeatMap(\n",
    "    annual_rides_coords\n",
    ").add_to(map_annual)\n",
    "\n",
    "end_ts = time.time()\n",
    "diff_ts = end_ts - start_ts\n",
    "print(f'The fragment took {diff_ts:.3f} seconds, or {diff_ts/60:.3f} minutes.')"
   ]
  },
  {
   "cell_type": "code",
   "execution_count": null,
   "id": "b98a5e7b",
   "metadata": {},
   "outputs": [],
   "source": [
    "map_annual"
   ]
  },
  {
   "cell_type": "markdown",
   "id": "b7377594",
   "metadata": {},
   "source": [
    "Very similar shapes (as expected), BUT it can be seen that annual members used farther stations (a blue circular figure on map). Moreover, the heatmap of annual members' station usage is a bit more extended on the ends, especially downwards."
   ]
  },
  {
   "cell_type": "markdown",
   "id": "a94f7018",
   "metadata": {},
   "source": [
    "### Visualizing routes\n",
    "\n",
    "Inspired by this [post](https://towardsdatascience.com/visualizing-routes-on-interactive-maps-with-python-part-1-44f8d25d0761)."
   ]
  },
  {
   "cell_type": "code",
   "execution_count": null,
   "id": "904026e4",
   "metadata": {
    "scrolled": false
   },
   "outputs": [],
   "source": [
    "data_5 = df.sample(10, random_state=44)\n",
    "data_5"
   ]
  },
  {
   "cell_type": "code",
   "execution_count": null,
   "id": "4b485dec",
   "metadata": {},
   "outputs": [],
   "source": [
    "map_routes = folium.Map(\n",
    "    location=[data_5['start_lat'].mean(), data_5['start_lng'].mean()],\n",
    "    zoom_start=13\n",
    ")\n",
    "\n",
    "for stop in data_5.itertuples():\n",
    "    # Create markers for starting and ending stations\n",
    "    start_marker = folium.Marker(\n",
    "        location=(stop.start_lat, stop.start_lng),\n",
    "        tooltip=stop.start_station_name\n",
    "    )\n",
    "    \n",
    "    end_marker = folium.Marker(\n",
    "        location=(stop.end_lat, stop.end_lng),\n",
    "        tooltip=stop.end_station_name\n",
    "    )\n",
    "    \n",
    "    # Make a route line connecting stations\n",
    "    line = folium.PolyLine(\n",
    "        locations=[(stop.start_lat, stop.start_lng), \n",
    "                   (stop.end_lat, stop.end_lng)],\n",
    "        tooltip=f'{stop.start_station_name} to {stop.end_station_name}'\n",
    "    )\n",
    "    \n",
    "    # Add all elements to the map\n",
    "    start_marker.add_to(map_routes)\n",
    "    end_marker.add_to(map_routes)\n",
    "    line.add_to(map_routes)"
   ]
  },
  {
   "cell_type": "code",
   "execution_count": null,
   "id": "f3970967",
   "metadata": {},
   "outputs": [],
   "source": [
    "map_routes"
   ]
  },
  {
   "cell_type": "markdown",
   "id": "82c3b7a2",
   "metadata": {},
   "source": [
    "Let's customize markers to differentiate routes:"
   ]
  },
  {
   "cell_type": "code",
   "execution_count": null,
   "id": "6978d1b4",
   "metadata": {},
   "outputs": [],
   "source": [
    "kw = {\"prefix\": \"fa\", \"color\": \"green\", \"icon\": \"arrow-up\"}\n",
    "\n",
    "map_routes = folium.Map(\n",
    "    location=[data_5['start_lat'].mean(), data_5['start_lng'].mean()],\n",
    "    zoom_start=13\n",
    ")\n",
    "\n",
    "for stop in data_5.itertuples():\n",
    "    # Create markers for starting and ending stations\n",
    "    start_icon = folium.Icon(angle=180, **kw) # up\n",
    "    start_marker = folium.Marker(\n",
    "        location=(stop.start_lat, stop.start_lng),\n",
    "        tooltip=stop.start_station_name,\n",
    "        icon=start_icon\n",
    "    )\n",
    "    \n",
    "    end_icon = folium.Icon(angle=0, **kw) # down\n",
    "    end_marker = folium.Marker(\n",
    "        location=(stop.end_lat, stop.end_lng),\n",
    "        tooltip=stop.end_station_name,\n",
    "        icon=end_icon\n",
    "    )\n",
    "    \n",
    "    # Make a route line connecting stations\n",
    "    line = folium.PolyLine(\n",
    "        locations=[(stop.start_lat, stop.start_lng), \n",
    "                   (stop.end_lat, stop.end_lng)],\n",
    "        tooltip=f'{stop.start_station_name} to {stop.end_station_name}'\n",
    "    )\n",
    "    \n",
    "    # Add all elements to the map\n",
    "    start_marker.add_to(map_routes)\n",
    "    end_marker.add_to(map_routes)\n",
    "    line.add_to(map_routes)"
   ]
  },
  {
   "cell_type": "code",
   "execution_count": null,
   "id": "2f1d9fee",
   "metadata": {},
   "outputs": [],
   "source": [
    "map_routes"
   ]
  },
  {
   "cell_type": "markdown",
   "id": "95305180",
   "metadata": {},
   "source": [
    "Better, but we cannot still see clearly which route belonged to which.\n",
    "\n",
    "To address layered icons, let's add a little random margin to each and change colors:"
   ]
  },
  {
   "cell_type": "code",
   "execution_count": null,
   "id": "569506c2",
   "metadata": {},
   "outputs": [],
   "source": [
    "r_earth = 6371 # in km\n",
    "pi = 3.1415\n",
    "\n",
    "def jittered_location(lat, lng):\n",
    "    \"Return a location randomly shifted by +-100 meters.\"\n",
    "    j_lat = lat + (np.random.uniform(low=0, high=0.1) / r_earth) * (180 / pi)\n",
    "    j_lng = lng + (np.random.uniform(low=0, high=0.1) / r_earth) * (180 / pi) / np.cos(lat * pi/180)\n",
    "    return [j_lat, j_lng]"
   ]
  },
  {
   "cell_type": "code",
   "execution_count": null,
   "id": "4ee43695",
   "metadata": {},
   "outputs": [],
   "source": [
    "map_routes = folium.Map(\n",
    "    location=[data_5['start_lat'].mean(), data_5['start_lng'].mean()],\n",
    "    zoom_start=13\n",
    ")\n",
    "\n",
    "kw_start = {\n",
    "    \"prefix\": \"fa\",\n",
    "    \"color\": \"green\",\n",
    "    \"icon\": \"arrow-up\"\n",
    "}\n",
    "\n",
    "kw_end = {\n",
    "    \"prefix\": \"fa\",\n",
    "    \"color\": \"red\",\n",
    "    \"icon\": \"arrow-up\"\n",
    "}\n",
    "\n",
    "for stop in data_5.itertuples():\n",
    "    # Create markers for starting and ending stations\n",
    "    start_icon = folium.Icon(angle=0, **kw_start) # up\n",
    "    start_marker = folium.Marker(\n",
    "        location=jittered_location(stop.start_lat, stop.start_lng),\n",
    "        tooltip=stop.start_station_name,\n",
    "        icon=start_icon\n",
    "    )\n",
    "    \n",
    "    end_icon = folium.Icon(angle=180, **kw_end) # down\n",
    "    end_marker = folium.Marker(\n",
    "        location=jittered_location(stop.end_lat, stop.end_lng),\n",
    "        tooltip=stop.end_station_name,\n",
    "        icon=end_icon\n",
    "    )\n",
    "    \n",
    "    # Make a route line connecting stations\n",
    "    line = folium.PolyLine(\n",
    "        locations=[(stop.start_lat, stop.start_lng), \n",
    "                   (stop.end_lat, stop.end_lng)],\n",
    "        tooltip=f'{stop.start_station_name} to {stop.end_station_name}'\n",
    "    )\n",
    "    \n",
    "    # Add all elements to the map\n",
    "    start_marker.add_to(map_routes)\n",
    "    end_marker.add_to(map_routes)\n",
    "    line.add_to(map_routes)"
   ]
  },
  {
   "cell_type": "code",
   "execution_count": null,
   "id": "3f5346c9",
   "metadata": {
    "scrolled": false
   },
   "outputs": [],
   "source": [
    "map_routes"
   ]
  },
  {
   "cell_type": "markdown",
   "id": "7f27e520",
   "metadata": {},
   "source": [
    "Perfect! Now we can see clearer where riders started and ended their routes."
   ]
  },
  {
   "cell_type": "code",
   "execution_count": null,
   "id": "5170e2e5",
   "metadata": {},
   "outputs": [],
   "source": [
    "data_5 = df.sample(10, random_state=41)\n",
    "\n",
    "map_routes = folium.Map(\n",
    "    location=[data_5['start_lat'].mean(), data_5['start_lng'].mean()],\n",
    "    zoom_start=13\n",
    ")\n",
    "\n",
    "kw_start = {\n",
    "    \"prefix\": \"fa\",\n",
    "    \"color\": \"green\",\n",
    "    \"icon\": \"arrow-up\"\n",
    "}\n",
    "\n",
    "kw_end = {\n",
    "    \"prefix\": \"fa\",\n",
    "    \"color\": \"red\",\n",
    "    \"icon\": \"arrow-up\"\n",
    "}\n",
    "\n",
    "for stop in data_5.itertuples():\n",
    "    # Create markers for starting and ending stations\n",
    "    start_icon = folium.Icon(angle=0, **kw_start) # up\n",
    "    start_marker = folium.Marker(\n",
    "        location=jittered_location(stop.start_lat, stop.start_lng),\n",
    "        tooltip=stop.start_station_name,\n",
    "        icon=start_icon\n",
    "    )\n",
    "    \n",
    "    end_icon = folium.Icon(angle=180, **kw_end) # down\n",
    "    end_marker = folium.Marker(\n",
    "        location=jittered_location(stop.end_lat, stop.end_lng),\n",
    "        tooltip=stop.end_station_name,\n",
    "        icon=end_icon\n",
    "    )\n",
    "    \n",
    "    # Make a route line connecting stations\n",
    "    line = folium.PolyLine(\n",
    "        locations=[(stop.start_lat, stop.start_lng), \n",
    "                   (stop.end_lat, stop.end_lng)],\n",
    "        tooltip=f'{stop.start_station_name} to {stop.end_station_name}'\n",
    "    )\n",
    "    \n",
    "    # Add all elements to the map\n",
    "    start_marker.add_to(map_routes)\n",
    "    end_marker.add_to(map_routes)\n",
    "    line.add_to(map_routes)\n",
    "\n",
    "map_routes"
   ]
  },
  {
   "cell_type": "markdown",
   "id": "a60acc7a",
   "metadata": {},
   "source": [
    "However, it is not efficient to visualize all observed routes.\n",
    "\n",
    "Let's visualize 5 rides with the longest `distance`:"
   ]
  },
  {
   "cell_type": "code",
   "execution_count": null,
   "id": "12c115f4",
   "metadata": {
    "scrolled": true
   },
   "outputs": [],
   "source": [
    "data_5 = df.sort_values('distance', ascending=False).iloc[np.arange(5)]\n",
    "data_5['distance']"
   ]
  },
  {
   "cell_type": "code",
   "execution_count": null,
   "id": "ccb7c30b",
   "metadata": {},
   "outputs": [],
   "source": [
    "map_routes = folium.Map(\n",
    "    location=[data_5['start_lat'].mean(), data_5['start_lng'].mean()],\n",
    "    zoom_start=9\n",
    ")\n",
    "\n",
    "kw_start = {\n",
    "    \"prefix\": \"fa\",\n",
    "    \"color\": \"green\",\n",
    "    \"icon\": \"arrow-up\"\n",
    "}\n",
    "\n",
    "kw_end = {\n",
    "    \"prefix\": \"fa\",\n",
    "    \"color\": \"red\",\n",
    "    \"icon\": \"arrow-up\"\n",
    "}\n",
    "\n",
    "for stop in data_5.itertuples():\n",
    "    # Create markers for starting and ending stations\n",
    "    start_icon = folium.Icon(angle=0, **kw_start) # up\n",
    "    start_marker = folium.Marker(\n",
    "        location=jittered_location(stop.start_lat, stop.start_lng),\n",
    "        tooltip=stop.start_station_name,\n",
    "        icon=start_icon\n",
    "    )\n",
    "    \n",
    "    end_icon = folium.Icon(angle=180, **kw_end) # down\n",
    "    end_marker = folium.Marker(\n",
    "        location=jittered_location(stop.end_lat, stop.end_lng),\n",
    "        tooltip=stop.end_station_name,\n",
    "        icon=end_icon\n",
    "    )\n",
    "    \n",
    "    # Make a route line connecting stations\n",
    "    line = folium.PolyLine(\n",
    "        locations=[(stop.start_lat, stop.start_lng), \n",
    "                   (stop.end_lat, stop.end_lng)],\n",
    "        tooltip=f'{stop.start_station_name} to {stop.end_station_name}'\n",
    "    )\n",
    "    \n",
    "    # Add all elements to the map\n",
    "    start_marker.add_to(map_routes)\n",
    "    end_marker.add_to(map_routes)\n",
    "    line.add_to(map_routes)\n",
    "\n",
    "map_routes"
   ]
  },
  {
   "cell_type": "markdown",
   "id": "c691ab17",
   "metadata": {},
   "source": [
    "Additionally, let's visualize 5 rides with the longest `duration`:"
   ]
  },
  {
   "cell_type": "code",
   "execution_count": null,
   "id": "403ba730",
   "metadata": {},
   "outputs": [],
   "source": [
    "data_5 = df.sort_values('duration', ascending=False).iloc[np.arange(5)]\n",
    "data_5['duration']"
   ]
  },
  {
   "cell_type": "code",
   "execution_count": null,
   "id": "717c81b1",
   "metadata": {},
   "outputs": [],
   "source": [
    "map_routes = folium.Map(\n",
    "    location=[data_5['start_lat'].mean(), data_5['start_lng'].mean()],\n",
    "    zoom_start=10\n",
    ")\n",
    "\n",
    "kw_start = {\n",
    "    \"prefix\": \"fa\",\n",
    "    \"color\": \"green\",\n",
    "    \"icon\": \"arrow-up\"\n",
    "}\n",
    "\n",
    "kw_end = {\n",
    "    \"prefix\": \"fa\",\n",
    "    \"color\": \"red\",\n",
    "    \"icon\": \"arrow-up\"\n",
    "}\n",
    "\n",
    "for stop in data_5.itertuples():\n",
    "    # Create markers for starting and ending stations\n",
    "    start_icon = folium.Icon(angle=0, **kw_start) # up\n",
    "    start_marker = folium.Marker(\n",
    "        location=jittered_location(stop.start_lat, stop.start_lng),\n",
    "        tooltip=stop.start_station_name,\n",
    "        icon=start_icon\n",
    "    )\n",
    "    \n",
    "    end_icon = folium.Icon(angle=180, **kw_end) # down\n",
    "    end_marker = folium.Marker(\n",
    "        location=jittered_location(stop.end_lat, stop.end_lng),\n",
    "        tooltip=stop.end_station_name,\n",
    "        icon=end_icon\n",
    "    )\n",
    "    \n",
    "    # Make a route line connecting stations\n",
    "    line = folium.PolyLine(\n",
    "        locations=[(stop.start_lat, stop.start_lng), \n",
    "                   (stop.end_lat, stop.end_lng)],\n",
    "        tooltip=f'{stop.start_station_name} to {stop.end_station_name}'\n",
    "    )\n",
    "    \n",
    "    # Add all elements to the map\n",
    "    start_marker.add_to(map_routes)\n",
    "    end_marker.add_to(map_routes)\n",
    "    line.add_to(map_routes)\n",
    "\n",
    "map_routes"
   ]
  },
  {
   "cell_type": "markdown",
   "id": "07e7d4bb",
   "metadata": {},
   "source": [
    "### Stations' popularity, take 2\n",
    "\n",
    "Let's make [`CircleMarker`](https://python-visualization.github.io/folium/latest/user_guide/vector_layers/circle_and_circle_marker.html) around each station with *counts* as an area parameter (given in meters)."
   ]
  },
  {
   "cell_type": "code",
   "execution_count": null,
   "id": "97d1e4b0",
   "metadata": {
    "scrolled": true
   },
   "outputs": [],
   "source": [
    "df.sample(3)"
   ]
  },
  {
   "cell_type": "code",
   "execution_count": null,
   "id": "a67bb970",
   "metadata": {},
   "outputs": [],
   "source": [
    "df.groupby(['start_station_name', 'start_station_id', 'start_lat', 'start_lng']).count()"
   ]
  },
  {
   "cell_type": "markdown",
   "id": "8d77906e",
   "metadata": {},
   "source": [
    "Note that rentals starting from the same station still have **different coordinates**.\n",
    "\n",
    "To address this, let's take *only first* instance of coordinate and id."
   ]
  },
  {
   "cell_type": "code",
   "execution_count": null,
   "id": "0b4fa4f4",
   "metadata": {
    "scrolled": true
   },
   "outputs": [],
   "source": [
    "station_counts = (df[['start_station_name', 'start_station_id']]\n",
    "    .groupby('start_station_name')\n",
    "    .count()\n",
    "    .rename({'start_station_id': 'count'}, axis='columns')\n",
    ")\n",
    "station_counts"
   ]
  },
  {
   "cell_type": "code",
   "execution_count": null,
   "id": "897fa5c5",
   "metadata": {},
   "outputs": [],
   "source": [
    "# Add id of each station\n",
    "station_ids = []\n",
    "\n",
    "for s in station_counts.index:\n",
    "    sid = df[df['start_station_name'] == s].iloc[0]['start_station_id']\n",
    "    station_ids.append(sid)\n",
    "    \n",
    "station_counts['id'] = station_ids"
   ]
  },
  {
   "cell_type": "code",
   "execution_count": null,
   "id": "9f301cc9",
   "metadata": {},
   "outputs": [],
   "source": [
    "# Add stations' coordinates\n",
    "station_lats, station_lngs = [], []\n",
    "\n",
    "for s in station_counts.index:\n",
    "    lat = df[df['start_station_name'] == s].iloc[0]['start_lat']\n",
    "    lng = df[df['start_station_name'] == s].iloc[0]['start_lng']\n",
    "    station_lats.append(lat)\n",
    "    station_lngs.append(lng)\n",
    "    \n",
    "station_counts['lat'] = station_lats\n",
    "station_counts['lng'] = station_lngs"
   ]
  },
  {
   "cell_type": "markdown",
   "id": "fd8073d3",
   "metadata": {},
   "source": [
    "Took a long time, since it was initially searching through ALL rows for each unique value."
   ]
  },
  {
   "cell_type": "code",
   "execution_count": null,
   "id": "f7c8c5cf",
   "metadata": {},
   "outputs": [],
   "source": [
    "np.any(station_counts.isna())"
   ]
  },
  {
   "cell_type": "code",
   "execution_count": null,
   "id": "712d50cd",
   "metadata": {},
   "outputs": [],
   "source": [
    "# Make indices with stations' names a distinct column\n",
    "stations = station_counts.rename_axis('name').reset_index()"
   ]
  },
  {
   "cell_type": "code",
   "execution_count": null,
   "id": "0e472b9f",
   "metadata": {},
   "outputs": [],
   "source": [
    "stations"
   ]
  },
  {
   "cell_type": "markdown",
   "id": "c0ceb310",
   "metadata": {},
   "source": [
    "Let's export this data to `./out` folder:"
   ]
  },
  {
   "cell_type": "code",
   "execution_count": null,
   "id": "10fae068",
   "metadata": {},
   "outputs": [],
   "source": [
    "stations.to_csv('out/stations.csv', index=False)"
   ]
  },
  {
   "cell_type": "markdown",
   "id": "07d9ffc5",
   "metadata": {},
   "source": [
    "Now we are ready to start visualizing!"
   ]
  },
  {
   "cell_type": "markdown",
   "id": "85313efa",
   "metadata": {},
   "source": [
    "To set each circle's area proportional to the station popularity, we need to take into acccount **a large spread** in the counts, so let's take a log of it:"
   ]
  },
  {
   "cell_type": "code",
   "execution_count": null,
   "id": "9262d238",
   "metadata": {},
   "outputs": [],
   "source": [
    "np.min(stations['count']), np.mean(stations['count']), np.max(stations['count'])"
   ]
  },
  {
   "cell_type": "code",
   "execution_count": null,
   "id": "d517edf1",
   "metadata": {
    "scrolled": true
   },
   "outputs": [],
   "source": [
    "np.log(np.min(stations['count'])), np.log(np.mean(stations['count'])), np.log(np.max(stations['count']))"
   ]
  },
  {
   "cell_type": "code",
   "execution_count": null,
   "id": "170dc9f5",
   "metadata": {},
   "outputs": [],
   "source": [
    "# Create a new map\n",
    "map_stations = folium.Map(\n",
    "    location=[stations['lat'].mean(), stations['lng'].mean()],\n",
    "    zoom_start=12\n",
    ")\n",
    "\n",
    "# Iterate through all stations\n",
    "for station in stations.itertuples():\n",
    "    radius_log = np.log(station.count)\n",
    "    \n",
    "    # Create a CircleMarker for the station\n",
    "    station_marker = folium.CircleMarker(\n",
    "        location=[station.lat, station.lng],\n",
    "        tooltip=station.name,\n",
    "        radius=radius_log,\n",
    "        popup='{} rentals'.format(station.count),\n",
    "        fill_color='green',\n",
    "        color='green',\n",
    "        fill_opacity=0.1,\n",
    "        weight=1\n",
    "    )\n",
    "    \n",
    "    # Add all elements to the map\n",
    "    station_marker.add_to(map_stations)"
   ]
  },
  {
   "cell_type": "code",
   "execution_count": null,
   "id": "323c76f2",
   "metadata": {
    "scrolled": true
   },
   "outputs": [],
   "source": [
    "map_stations"
   ]
  },
  {
   "cell_type": "markdown",
   "id": "a7526c40",
   "metadata": {},
   "source": [
    "Great! Let's now see which stations were used more by annual subscribers and casual riders."
   ]
  },
  {
   "cell_type": "code",
   "execution_count": null,
   "id": "ab52e84a",
   "metadata": {
    "scrolled": true
   },
   "outputs": [],
   "source": [
    "station_counts_by_member = (\n",
    "    df[['start_station_name', 'start_station_id', 'member_casual']]\n",
    "    .groupby(['start_station_name', 'member_casual'])\n",
    "    .count()\n",
    "    .rename({'start_station_id': 'count'}, axis='columns')\n",
    "    .rename_axis(['name', 'type']).reset_index()\n",
    ")\n",
    "station_counts_by_member"
   ]
  },
  {
   "cell_type": "code",
   "execution_count": null,
   "id": "d3c922e2",
   "metadata": {},
   "outputs": [],
   "source": [
    "m_count, c_count = [], []\n",
    "\n",
    "for s in stations.itertuples():\n",
    "    s_rows = station_counts_by_member[station_counts_by_member['name'] == s.name]\n",
    "    if s_rows.iloc[0]['type'] == 'member':\n",
    "        member = s_rows.iloc[0]['count']\n",
    "        casual = s.count - member\n",
    "    else:\n",
    "        casual = s_rows.iloc[0]['count']\n",
    "        member = s.count - casual\n",
    "    m_count.append(member)\n",
    "    c_count.append(casual)\n",
    "    \n",
    "stations['member_count'] = m_count\n",
    "stations['casual_count'] = c_count"
   ]
  },
  {
   "cell_type": "code",
   "execution_count": null,
   "id": "fd7d64dd",
   "metadata": {},
   "outputs": [],
   "source": [
    "stations.sample(3)"
   ]
  },
  {
   "cell_type": "markdown",
   "id": "18324f86",
   "metadata": {},
   "source": [
    "Cool! Let's now indicate with colors which group of riders prevalently use this specific station:\n",
    "green by annual members and red by casual riders."
   ]
  },
  {
   "cell_type": "code",
   "execution_count": null,
   "id": "c1cee92c",
   "metadata": {},
   "outputs": [],
   "source": [
    "# Create a new map\n",
    "map_stations = folium.Map(\n",
    "    location=[stations['lat'].mean(), stations['lng'].mean()],\n",
    "    zoom_start=12\n",
    ")\n",
    "\n",
    "# Iterate through all stations\n",
    "for station in stations.itertuples():\n",
    "    radius_log = np.log(station.count)\n",
    "    if station.member_count >= station.casual_count:\n",
    "        if station.member_count / station.count >= 0.75:\n",
    "            color_ind = 'green'\n",
    "        else:\n",
    "            color_ind = 'yellow'\n",
    "    else:\n",
    "        if station.casual_count / station.count >= 0.75:\n",
    "            color_ind = 'red'\n",
    "        else:\n",
    "            color_ind = 'yellow'\n",
    "    \n",
    "    # Create a CircleMarker for the station\n",
    "    station_marker = folium.CircleMarker(\n",
    "        location=[station.lat, station.lng],\n",
    "        tooltip=station.name,\n",
    "        radius=radius_log,\n",
    "        popup='{} rentals'.format(station.count),\n",
    "        fill_color=color_ind,\n",
    "        color='yellow',\n",
    "        fill_opacity=0.5,\n",
    "        weight=1\n",
    "    )\n",
    "    \n",
    "    # Add all elements to the map\n",
    "    station_marker.add_to(map_stations)"
   ]
  },
  {
   "cell_type": "code",
   "execution_count": null,
   "id": "77c12e50",
   "metadata": {
    "scrolled": false
   },
   "outputs": [],
   "source": [
    "map_stations"
   ]
  },
  {
   "cell_type": "markdown",
   "id": "d4bcf6d3",
   "metadata": {},
   "source": [
    "Seems like casual riders tend to ride around the **downtown** area, while annual members outnumber in farther locations. This supports the conclusion we made from the heatmap earlier."
   ]
  },
  {
   "cell_type": "markdown",
   "id": "9ace1286",
   "metadata": {},
   "source": [
    "# Conclusion"
   ]
  },
  {
   "cell_type": "markdown",
   "id": "e7c4c443",
   "metadata": {},
   "source": [
    "Marketing strategy should focus on promoting accessibility to any point of the Chicago metropolitan area and speediness in order to make users buy an annual membership. These features seem to be characteristics of Cyclistic annual members, and could be the main reason for the purchase of membership."
   ]
  },
  {
   "cell_type": "markdown",
   "id": "b95743bf",
   "metadata": {},
   "source": [
    "---\n",
    "\n",
    "Sardaana Eginova"
   ]
  }
 ],
 "metadata": {
  "kernelspec": {
   "display_name": "Python 3 (ipykernel)",
   "language": "python",
   "name": "python3"
  },
  "language_info": {
   "codemirror_mode": {
    "name": "ipython",
    "version": 3
   },
   "file_extension": ".py",
   "mimetype": "text/x-python",
   "name": "python",
   "nbconvert_exporter": "python",
   "pygments_lexer": "ipython3",
   "version": "3.11.5"
  }
 },
 "nbformat": 4,
 "nbformat_minor": 5
}
